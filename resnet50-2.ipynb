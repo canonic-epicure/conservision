{
 "cells": [
  {
   "metadata": {},
   "cell_type": "markdown",
   "source": "## Imports"
  },
  {
   "metadata": {
    "ExecuteTime": {
     "end_time": "2025-09-05T12:27:01.210649Z",
     "start_time": "2025-09-05T12:27:00.030819Z"
    }
   },
   "cell_type": "code",
   "source": [
    "from torchvision.transforms.v2.functional import to_pil_image\n",
    "%load_ext autoreload\n",
    "%autoreload 2"
   ],
   "outputs": [],
   "execution_count": 1
  },
  {
   "metadata": {
    "ExecuteTime": {
     "end_time": "2025-09-05T12:27:02.424618Z",
     "start_time": "2025-09-05T12:27:01.215002Z"
    }
   },
   "cell_type": "code",
   "source": [
    "from typing import Literal, Union\n",
    "\n",
    "import matplotlib.pyplot as plt\n",
    "import pandas as pd\n",
    "import torch\n",
    "import tqdm\n",
    "from torch import nn\n",
    "from torch.utils.data import DataLoader\n",
    "from transformers import AutoImageProcessor, AutoModelForImageClassification\n",
    "\n",
    "import data\n",
    "import lib\n",
    "\n",
    "from lib import predict_siglip\n",
    "\n",
    "import ipywidgets as widgets\n",
    "from IPython.display import display"
   ],
   "outputs": [],
   "execution_count": 2
  },
  {
   "metadata": {},
   "cell_type": "markdown",
   "source": "## Model instantiation"
  },
  {
   "metadata": {
    "ExecuteTime": {
     "end_time": "2025-09-05T12:27:14.614350Z",
     "start_time": "2025-09-05T12:27:12.222924Z"
    }
   },
   "cell_type": "code",
   "source": [
    "restore_from_checkpoint: Union[int, bool] = 12\n",
    "\n",
    "model_id = \"google/siglip2-large-patch16-384\"  # FixRes вариант\n",
    "model_preprocessor = AutoImageProcessor.from_pretrained(model_id)  # даст resize/normalize, mean/std/size\n",
    "\n",
    "optimizer = None\n",
    "\n",
    "# upcoming training epoch\n",
    "epoch = 0\n",
    "\n",
    "if restore_from_checkpoint == True or isinstance(restore_from_checkpoint, int):\n",
    "    if restore_from_checkpoint == True:\n",
    "        epochs = lib.model_checkpoints(f'./models_siglip2/checkpoint_*.pth')\n",
    "\n",
    "        if len(epochs) == 0:\n",
    "            print('no models found')\n",
    "            raise ValueError('No model found')\n",
    "\n",
    "        checkpoint_num = epochs[ 0 ]\n",
    "    else:\n",
    "        checkpoint_num = restore_from_checkpoint\n",
    "\n",
    "    print(f'Loading model from epoch { checkpoint_num }')\n",
    "\n",
    "    checkpoint = torch.load(f'./models_siglip2/checkpoint_{ checkpoint_num }.pth', weights_only=False)\n",
    "\n",
    "    model = checkpoint['model']\n",
    "    optimizer = checkpoint['optimizer']\n",
    "\n",
    "    epoch = model.epoch + 1\n",
    "else:\n",
    "    # Веса энкодера + НОВАЯ голова классификации (num_labels=2):\n",
    "    model = AutoModelForImageClassification.from_pretrained(\n",
    "        model_id,\n",
    "        num_labels=len(data.species_labels),\n",
    "        ignore_mismatched_sizes=True,  # создаст новую голову нужного размера\n",
    "    )\n",
    "\n",
    "    device = \"cuda\" if torch.cuda.is_available() else \"cpu\"\n",
    "    model.to(device)\n",
    "\n",
    "    model.tracking_loss = []\n",
    "    model.tracking_loss_val = []\n",
    "    model.tracking_accuracy = []\n",
    "    model.tracking_val_probs = []\n",
    "    # the last epoch we finished training on\n",
    "    model.epoch = None\n",
    "\n",
    "tracking_loss = model.tracking_loss\n",
    "tracking_loss_val = model.tracking_loss_val\n",
    "tracking_accuracy = model.tracking_accuracy\n",
    "tracking_val_probs = model.tracking_val_probs"
   ],
   "outputs": [
    {
     "data": {
      "text/plain": [
       "Fetching 1 files:   0%|          | 0/1 [00:00<?, ?it/s]"
      ],
      "application/vnd.jupyter.widget-view+json": {
       "version_major": 2,
       "version_minor": 0,
       "model_id": "a22cb09aed44444da6beafb5b4e6c280"
      }
     },
     "metadata": {},
     "output_type": "display_data"
    },
    {
     "name": "stderr",
     "output_type": "stream",
     "text": [
      "Using a slow image processor as `use_fast` is unset and a slow processor was saved with this model. `use_fast=True` will be the default behavior in v4.52, even if the model was saved with a slow processor. This will result in minor differences in outputs. You'll still be able to use a slow processor with `use_fast=False`.\n"
     ]
    },
    {
     "name": "stdout",
     "output_type": "stream",
     "text": [
      "Loading model from epoch 12\n"
     ]
    }
   ],
   "execution_count": 3
  },
  {
   "metadata": {},
   "cell_type": "markdown",
   "source": "## Training"
  },
  {
   "metadata": {},
   "cell_type": "markdown",
   "source": "### Data"
  },
  {
   "metadata": {
    "ExecuteTime": {
     "end_time": "2025-09-05T13:06:03.919650Z",
     "start_time": "2025-09-05T13:06:03.903586Z"
    }
   },
   "cell_type": "code",
   "source": [
    "train_ds = lib.ImageDatasetSigLip2(data.x_train, data.y_train, processor=model_preprocessor, learning=True)\n",
    "val_ds   = lib.ImageDatasetSigLip2(data.x_eval, data.y_eval, processor=model_preprocessor, learning=False)\n",
    "\n",
    "train_loader = DataLoader(train_ds, batch_size=48, shuffle=True, num_workers=6)\n",
    "val_loader   = DataLoader(val_ds,   batch_size=256, shuffle=False, num_workers=6)"
   ],
   "outputs": [],
   "execution_count": 39
  },
  {
   "metadata": {},
   "cell_type": "markdown",
   "source": "### Optimizer"
  },
  {
   "metadata": {
    "ExecuteTime": {
     "end_time": "2025-09-05T12:27:27.013594Z",
     "start_time": "2025-09-05T12:27:26.997491Z"
    }
   },
   "cell_type": "code",
   "source": [
    "if optimizer is None:\n",
    "    optimizer = torch.optim.AdamW()"
   ],
   "outputs": [],
   "execution_count": 5
  },
  {
   "metadata": {},
   "cell_type": "markdown",
   "source": "### Freezing"
  },
  {
   "metadata": {
    "ExecuteTime": {
     "end_time": "2025-09-05T12:27:28.545181Z",
     "start_time": "2025-09-05T12:27:28.526420Z"
    }
   },
   "cell_type": "code",
   "source": [
    "unfreezing: Literal['classifier_only', 'classifier_and_encoder', 'all'] = 'classifier_and_encoder'\n",
    "\n",
    "# C) Параметрические группы с «ступенчатым» LR: у головы LR выше, у энкодера ниже\n",
    "head_params = []\n",
    "enc_params  = []\n",
    "\n",
    "if unfreezing == 'classifier_only':\n",
    "    # 2) Заморозим всё, кроме головы (линейный пробинг)\n",
    "    for name, p in model.named_parameters():\n",
    "        p.requires_grad = \"classifier\" in name  # у HF-классификаторов голова обычно называется \"classifier\"\n",
    "\n",
    "        if \"classifier\" in name:\n",
    "            head_params.append(p)\n",
    "\n",
    "elif unfreezing == 'classifier_and_encoder':\n",
    "    # A) Сначала всё заморозим\n",
    "    for p in model.parameters():\n",
    "        p.requires_grad = False\n",
    "    for name, p in model.named_parameters():\n",
    "        if \"classifier\" in name:\n",
    "            p.requires_grad = True  # голова остаётся обучаемой\n",
    "            head_params.append(p)\n",
    "\n",
    "    # B) Разморозим последние L блоков визуального энкодера\n",
    "    L = 8  # начните с 2–4; при достаточном VRAM можно 6–8\n",
    "    layers = model.vision_model.encoder.layers   # ModuleList\n",
    "    for block in layers[-L:]:\n",
    "        for p in block.parameters():\n",
    "            p.requires_grad = True\n",
    "            enc_params.append(p)\n",
    "elif unfreezing == 'all':\n",
    "    for p in model.parameters():\n",
    "        p.requires_grad = True\n",
    "else:\n",
    "    raise ValueError(f\"Unknown unfreezing mode: {unfreezing}\")"
   ],
   "outputs": [],
   "execution_count": 6
  },
  {
   "metadata": {
    "ExecuteTime": {
     "end_time": "2025-09-05T12:27:31.374774Z",
     "start_time": "2025-09-05T12:27:31.358277Z"
    }
   },
   "cell_type": "code",
   "source": [
    "optimizer.param_groups = []\n",
    "\n",
    "optimizer.add_param_group({'name': \"encoder\", \"params\": enc_params,  \"lr\": 1e-4, \"weight_decay\": 0.05})\n",
    "optimizer.add_param_group({'name': \"classifier\", \"params\": head_params, \"lr\": 1e-3, \"weight_decay\": 0.01})"
   ],
   "outputs": [],
   "execution_count": 7
  },
  {
   "metadata": {},
   "cell_type": "markdown",
   "source": "### Loss (possibly with weights)"
  },
  {
   "metadata": {
    "ExecuteTime": {
     "end_time": "2025-09-05T12:27:33.999385Z",
     "start_time": "2025-09-05T12:27:33.983739Z"
    }
   },
   "cell_type": "code",
   "source": [
    "# 4) Баланс классов (простой вариант: веса в CrossEntropy по частотам)\n",
    "# import numpy as np\n",
    "# counts = np.bincount(train_labels, minlength=2)  # counts[0], counts[1]\n",
    "# class_weights = torch.tensor((counts.sum() / (2.0 * np.maximum(counts, 1))), dtype=torch.float32, device=device)\n",
    "# criterion = nn.CrossEntropyLoss(weight=class_weights)\n",
    "\n",
    "criterion = nn.CrossEntropyLoss(label_smoothing=0.1)"
   ],
   "outputs": [],
   "execution_count": 8
  },
  {
   "metadata": {},
   "cell_type": "markdown",
   "source": "### Cutmix + mixup"
  },
  {
   "metadata": {
    "ExecuteTime": {
     "end_time": "2025-09-05T12:27:35.582726Z",
     "start_time": "2025-09-05T12:27:35.565996Z"
    }
   },
   "cell_type": "code",
   "source": [
    "from torchvision.transforms import v2\n",
    "\n",
    "use_cutmix_mixup = True\n",
    "\n",
    "cutmix = v2.CutMix(num_classes=len(data.species_labels))\n",
    "mixup = v2.MixUp(num_classes=len(data.species_labels))\n",
    "cutmix_or_mixup = v2.RandomChoice([cutmix, mixup])"
   ],
   "outputs": [],
   "execution_count": 9
  },
  {
   "metadata": {},
   "cell_type": "markdown",
   "source": "### Loop"
  },
  {
   "metadata": {},
   "cell_type": "code",
   "source": [
    "stop_button = widgets.Button(description=\"Stop\")\n",
    "stop_flag = { 'value' : False }\n",
    "\n",
    "def on_click(b):\n",
    "    stop_flag['value'] = True\n",
    "\n",
    "stop_button.on_click(on_click)\n",
    "display(stop_button)\n",
    "\n",
    "num_epochs = 5\n",
    "\n",
    "for cur_epoch in range(epoch, epoch + num_epochs):\n",
    "    if stop_flag['value'] == True:\n",
    "        break\n",
    "\n",
    "    print(f\"Starting epoch {cur_epoch}\")\n",
    "\n",
    "    model.train()\n",
    "\n",
    "    loss_acc = 0\n",
    "    count = 0\n",
    "\n",
    "    for batch in tqdm.tqdm(train_loader, total=len(train_loader), desc='Training'):\n",
    "        optimizer.zero_grad(set_to_none=True)\n",
    "\n",
    "        images, labels = batch[\"pixel_values\"].to(torch.device(\"cuda\")), batch[\"labels\"].to(torch.device(\"cuda\"))\n",
    "\n",
    "        if use_cutmix_mixup:\n",
    "            images, labels = cutmix_or_mixup(images, labels)\n",
    "\n",
    "        out = model(images)              # logits: (B, 2)\n",
    "        loss = criterion(out.logits, labels)\n",
    "\n",
    "        c = batch['pixel_values'].size(0)\n",
    "        loss_acc += loss.item() * c\n",
    "        count += c\n",
    "\n",
    "        loss.backward()\n",
    "        optimizer.step()\n",
    "\n",
    "    tracking_loss.append(loss_acc / count)\n",
    "\n",
    "    # валидация\n",
    "    model.eval()\n",
    "\n",
    "    probs, loss_acc = predict_siglip(\n",
    "        model, val_loader, accumulate_probs=True, accumulate_loss=True, desc='Validation', columns=data.species_labels, criterion=criterion\n",
    "    )\n",
    "    tracking_val_probs.append(probs)\n",
    "    tracking_loss_val.append(loss_acc)\n",
    "\n",
    "    eval_predictions = probs.idxmax(axis=1)\n",
    "    eval_true = data.y_eval.idxmax(axis=1)\n",
    "    correct = (eval_predictions == eval_true).sum()\n",
    "    accuracy = correct / len(eval_predictions)\n",
    "    tracking_accuracy.append(accuracy.item())\n",
    "\n",
    "    model.epoch = cur_epoch\n",
    "    lib.save_model(model, optimizer, f\"./models_siglip2/checkpoint_{str(cur_epoch).rjust(2, \"0\")}.pth\")\n",
    "\n",
    "    epoch = cur_epoch + 1\n"
   ],
   "outputs": [],
   "execution_count": null
  },
  {
   "metadata": {},
   "cell_type": "markdown",
   "source": "## Training progress"
  },
  {
   "metadata": {
    "ExecuteTime": {
     "end_time": "2025-09-05T12:27:40.210039Z",
     "start_time": "2025-09-05T12:27:40.190307Z"
    }
   },
   "cell_type": "code",
   "source": "pd.DataFrame({'tracking_loss' : tracking_loss, 'tracking_loss_val' : tracking_loss_val, 'tracking_accuracy' : tracking_accuracy }, index=range(len(tracking_accuracy)))",
   "outputs": [
    {
     "data": {
      "text/plain": [
       "    tracking_loss  tracking_loss_val  tracking_accuracy\n",
       "0        1.961292           1.687593           0.469679\n",
       "1        1.795580           1.631418           0.470588\n",
       "2        1.743363           1.528110           0.496058\n",
       "3        1.762257           1.541980           0.470588\n",
       "4        1.741564           1.487562           0.486355\n",
       "5        1.705244           1.486066           0.458156\n",
       "6        1.698780           1.471215           0.517586\n",
       "7        1.665375           1.432797           0.546089\n",
       "8        1.699083           1.439405           0.521225\n",
       "9        1.702406           1.423867           0.540327\n",
       "10       1.727347           1.240720           0.643117\n",
       "11       1.548794           1.264643           0.655852\n",
       "12       1.542977           1.127977           0.736204"
      ],
      "text/html": [
       "<div>\n",
       "<style scoped>\n",
       "    .dataframe tbody tr th:only-of-type {\n",
       "        vertical-align: middle;\n",
       "    }\n",
       "\n",
       "    .dataframe tbody tr th {\n",
       "        vertical-align: top;\n",
       "    }\n",
       "\n",
       "    .dataframe thead th {\n",
       "        text-align: right;\n",
       "    }\n",
       "</style>\n",
       "<table border=\"1\" class=\"dataframe\">\n",
       "  <thead>\n",
       "    <tr style=\"text-align: right;\">\n",
       "      <th></th>\n",
       "      <th>tracking_loss</th>\n",
       "      <th>tracking_loss_val</th>\n",
       "      <th>tracking_accuracy</th>\n",
       "    </tr>\n",
       "  </thead>\n",
       "  <tbody>\n",
       "    <tr>\n",
       "      <th>0</th>\n",
       "      <td>1.961292</td>\n",
       "      <td>1.687593</td>\n",
       "      <td>0.469679</td>\n",
       "    </tr>\n",
       "    <tr>\n",
       "      <th>1</th>\n",
       "      <td>1.795580</td>\n",
       "      <td>1.631418</td>\n",
       "      <td>0.470588</td>\n",
       "    </tr>\n",
       "    <tr>\n",
       "      <th>2</th>\n",
       "      <td>1.743363</td>\n",
       "      <td>1.528110</td>\n",
       "      <td>0.496058</td>\n",
       "    </tr>\n",
       "    <tr>\n",
       "      <th>3</th>\n",
       "      <td>1.762257</td>\n",
       "      <td>1.541980</td>\n",
       "      <td>0.470588</td>\n",
       "    </tr>\n",
       "    <tr>\n",
       "      <th>4</th>\n",
       "      <td>1.741564</td>\n",
       "      <td>1.487562</td>\n",
       "      <td>0.486355</td>\n",
       "    </tr>\n",
       "    <tr>\n",
       "      <th>5</th>\n",
       "      <td>1.705244</td>\n",
       "      <td>1.486066</td>\n",
       "      <td>0.458156</td>\n",
       "    </tr>\n",
       "    <tr>\n",
       "      <th>6</th>\n",
       "      <td>1.698780</td>\n",
       "      <td>1.471215</td>\n",
       "      <td>0.517586</td>\n",
       "    </tr>\n",
       "    <tr>\n",
       "      <th>7</th>\n",
       "      <td>1.665375</td>\n",
       "      <td>1.432797</td>\n",
       "      <td>0.546089</td>\n",
       "    </tr>\n",
       "    <tr>\n",
       "      <th>8</th>\n",
       "      <td>1.699083</td>\n",
       "      <td>1.439405</td>\n",
       "      <td>0.521225</td>\n",
       "    </tr>\n",
       "    <tr>\n",
       "      <th>9</th>\n",
       "      <td>1.702406</td>\n",
       "      <td>1.423867</td>\n",
       "      <td>0.540327</td>\n",
       "    </tr>\n",
       "    <tr>\n",
       "      <th>10</th>\n",
       "      <td>1.727347</td>\n",
       "      <td>1.240720</td>\n",
       "      <td>0.643117</td>\n",
       "    </tr>\n",
       "    <tr>\n",
       "      <th>11</th>\n",
       "      <td>1.548794</td>\n",
       "      <td>1.264643</td>\n",
       "      <td>0.655852</td>\n",
       "    </tr>\n",
       "    <tr>\n",
       "      <th>12</th>\n",
       "      <td>1.542977</td>\n",
       "      <td>1.127977</td>\n",
       "      <td>0.736204</td>\n",
       "    </tr>\n",
       "  </tbody>\n",
       "</table>\n",
       "</div>"
      ]
     },
     "execution_count": 10,
     "metadata": {},
     "output_type": "execute_result"
    }
   ],
   "execution_count": 10
  },
  {
   "metadata": {
    "ExecuteTime": {
     "end_time": "2025-09-05T12:27:45.361751Z",
     "start_time": "2025-09-05T12:27:45.274573Z"
    }
   },
   "cell_type": "code",
   "source": [
    "fig, ax = plt.subplots(figsize=(15, 5))\n",
    "\n",
    "epochs_train = list(range(len(tracking_loss)))\n",
    "epochs_val = list(range(len(tracking_loss_val)))\n",
    "\n",
    "line1, = ax.plot(epochs_train, tracking_loss, label=\"Train loss\")\n",
    "line2, = ax.plot(epochs_val, tracking_loss_val, label=\"Validation loss\")\n",
    "\n",
    "ax.set_xlabel(\"Epoch (index)\")\n",
    "ax.set_ylabel(\"Loss\")\n",
    "ax.legend(loc=\"best\", handles=[line1, line2])\n",
    "\n",
    "ax.set_xticks(epochs_train)\n",
    "\n",
    "ax.grid(True)"
   ],
   "outputs": [
    {
     "data": {
      "text/plain": [
       "<Figure size 1500x500 with 1 Axes>"
      ],
      "image/png": "[encoded data removed]"
     },
     "metadata": {},
     "output_type": "display_data"
    }
   ],
   "execution_count": 11
  },
  {
   "metadata": {
    "ExecuteTime": {
     "end_time": "2025-09-05T12:27:48.125564Z",
     "start_time": "2025-09-05T12:27:48.046366Z"
    }
   },
   "cell_type": "code",
   "source": [
    "fig, ax = plt.subplots(figsize=(15, 5))\n",
    "\n",
    "epochs_accuracy = list(range(len(tracking_accuracy)))\n",
    "\n",
    "line1, = ax.plot(epochs_accuracy, tracking_accuracy, label=\"Accuracy\", color=\"red\")\n",
    "ax.set_ylabel(\"Accuracy\")\n",
    "\n",
    "ax.legend(loc=\"best\", handles=[line1])\n",
    "\n",
    "ax.set_xticks(epochs_train)\n",
    "\n",
    "ax.grid(True)"
   ],
   "outputs": [
    {
     "data": {
      "text/plain": [
       "<Figure size 1500x500 with 1 Axes>"
      ],
      "image/png": "[encoded data removed]"
     },
     "metadata": {},
     "output_type": "display_data"
    }
   ],
   "execution_count": 12
  },
  {
   "metadata": {},
   "cell_type": "markdown",
   "source": "## Validation"
  },
  {
   "metadata": {
    "ExecuteTime": {
     "end_time": "2025-09-05T13:19:28.575985Z",
     "start_time": "2025-09-05T13:19:28.559218Z"
    }
   },
   "cell_type": "code",
   "source": "temp_acc = {}",
   "outputs": [],
   "execution_count": 42
  },
  {
   "metadata": {
    "ExecuteTime": {
     "end_time": "2025-09-05T13:47:05.989437Z",
     "start_time": "2025-09-05T13:47:05.970859Z"
    }
   },
   "cell_type": "code",
   "source": [
    "for key in sorted(temp_acc.keys()):\n",
    "    print(f'T={key:.5f}: {temp_acc[key]:.5f}')"
   ],
   "outputs": [
    {
     "name": "stdout",
     "output_type": "stream",
     "text": [
      "T=0.68000: 1.11556\n",
      "T=0.73000: 1.10541\n",
      "T=0.77000: 1.10174\n",
      "T=0.78000: 1.10135\n",
      "T=0.78250: 1.10128\n",
      "T=0.78500: 1.10122\n",
      "T=0.79750: 1.10111\n",
      "T=0.80750: 1.10122\n",
      "T=0.81000: 1.10128\n",
      "T=0.82000: 1.10160\n",
      "T=0.83250: 1.10221\n",
      "T=0.85750: 1.10412\n",
      "T=0.87000: 1.10539\n"
     ]
    }
   ],
   "execution_count": 53
  },
  {
   "metadata": {
    "ExecuteTime": {
     "end_time": "2025-09-05T13:46:59.040828Z",
     "start_time": "2025-09-05T13:43:11.150892Z"
    }
   },
   "cell_type": "code",
   "source": [
    "import numpy as np\n",
    "\n",
    "for t in np.arange(0.785, 0.82, 0.0125):\n",
    "    _, loss = lib.predict_siglip(model, val_loader, accumulate_loss=True, accumulate_probs=False, criterion=criterion, T=t, desc='Searching', columns=data.species_labels)\n",
    "\n",
    "    print(f\"T={t:.5f}: {loss:.4f}\")\n",
    "\n",
    "    temp_acc[t] = loss"
   ],
   "outputs": [
    {
     "name": "stderr",
     "output_type": "stream",
     "text": [
      "Searching: 100%|██████████| 13/13 [01:15<00:00,  5.82s/it]\n"
     ]
    },
    {
     "name": "stdout",
     "output_type": "stream",
     "text": [
      "T=0.785: 1.1012\n"
     ]
    },
    {
     "name": "stderr",
     "output_type": "stream",
     "text": [
      "Searching: 100%|██████████| 13/13 [01:16<00:00,  5.85s/it]\n"
     ]
    },
    {
     "name": "stdout",
     "output_type": "stream",
     "text": [
      "T=0.797: 1.1011\n"
     ]
    },
    {
     "name": "stderr",
     "output_type": "stream",
     "text": [
      "Searching: 100%|██████████| 13/13 [01:16<00:00,  5.86s/it]"
     ]
    },
    {
     "name": "stdout",
     "output_type": "stream",
     "text": [
      "T=0.810: 1.1013\n"
     ]
    },
    {
     "name": "stderr",
     "output_type": "stream",
     "text": [
      "\n"
     ]
    }
   ],
   "execution_count": 52
  },
  {
   "metadata": {
    "ExecuteTime": {
     "end_time": "2025-09-05T12:42:08.548896Z",
     "start_time": "2025-09-05T12:28:18.126166Z"
    }
   },
   "cell_type": "code",
   "source": [
    "eval_preds_df = tracking_val_probs[-1]\n",
    "\n",
    "eval_preds_df_ten_crop = lib.predict_siglip_ten_crop(model, val_loader, T=1, desc='Predicting', columns=data.species_labels)"
   ],
   "outputs": [
    {
     "name": "stderr",
     "output_type": "stream",
     "text": [
      "Predicting: 100%|██████████| 69/69 [13:50<00:00, 12.03s/it]\n"
     ]
    }
   ],
   "execution_count": 13
  },
  {
   "metadata": {
    "ExecuteTime": {
     "end_time": "2025-09-05T12:45:32.179614Z",
     "start_time": "2025-09-05T12:45:32.157220Z"
    }
   },
   "cell_type": "code",
   "source": "eval_preds_df.head()",
   "outputs": [
    {
     "data": {
      "text/plain": [
       "          antelope_duiker      bird     blank  civet_genet       hog  \\\n",
       "ZJ000000         0.067247  0.746255  0.042348     0.033956  0.016093   \n",
       "ZJ000006         0.057101  0.012795  0.091863     0.666320  0.063716   \n",
       "ZJ000011         0.093184  0.028485  0.212897     0.019793  0.049781   \n",
       "ZJ000023         0.067435  0.010704  0.106893     0.247757  0.027425   \n",
       "ZJ000024         0.021816  0.007942  0.032286     0.004802  0.004425   \n",
       "\n",
       "           leopard  monkey_prosimian    rodent  \n",
       "ZJ000000  0.019350          0.045397  0.029353  \n",
       "ZJ000006  0.024983          0.024019  0.059204  \n",
       "ZJ000011  0.337634          0.080077  0.178149  \n",
       "ZJ000023  0.504294          0.018688  0.016805  \n",
       "ZJ000024  0.027640          0.891777  0.009311  "
      ],
      "text/html": [
       "<div>\n",
       "<style scoped>\n",
       "    .dataframe tbody tr th:only-of-type {\n",
       "        vertical-align: middle;\n",
       "    }\n",
       "\n",
       "    .dataframe tbody tr th {\n",
       "        vertical-align: top;\n",
       "    }\n",
       "\n",
       "    .dataframe thead th {\n",
       "        text-align: right;\n",
       "    }\n",
       "</style>\n",
       "<table border=\"1\" class=\"dataframe\">\n",
       "  <thead>\n",
       "    <tr style=\"text-align: right;\">\n",
       "      <th></th>\n",
       "      <th>antelope_duiker</th>\n",
       "      <th>bird</th>\n",
       "      <th>blank</th>\n",
       "      <th>civet_genet</th>\n",
       "      <th>hog</th>\n",
       "      <th>leopard</th>\n",
       "      <th>monkey_prosimian</th>\n",
       "      <th>rodent</th>\n",
       "    </tr>\n",
       "  </thead>\n",
       "  <tbody>\n",
       "    <tr>\n",
       "      <th>ZJ000000</th>\n",
       "      <td>0.067247</td>\n",
       "      <td>0.746255</td>\n",
       "      <td>0.042348</td>\n",
       "      <td>0.033956</td>\n",
       "      <td>0.016093</td>\n",
       "      <td>0.019350</td>\n",
       "      <td>0.045397</td>\n",
       "      <td>0.029353</td>\n",
       "    </tr>\n",
       "    <tr>\n",
       "      <th>ZJ000006</th>\n",
       "      <td>0.057101</td>\n",
       "      <td>0.012795</td>\n",
       "      <td>0.091863</td>\n",
       "      <td>0.666320</td>\n",
       "      <td>0.063716</td>\n",
       "      <td>0.024983</td>\n",
       "      <td>0.024019</td>\n",
       "      <td>0.059204</td>\n",
       "    </tr>\n",
       "    <tr>\n",
       "      <th>ZJ000011</th>\n",
       "      <td>0.093184</td>\n",
       "      <td>0.028485</td>\n",
       "      <td>0.212897</td>\n",
       "      <td>0.019793</td>\n",
       "      <td>0.049781</td>\n",
       "      <td>0.337634</td>\n",
       "      <td>0.080077</td>\n",
       "      <td>0.178149</td>\n",
       "    </tr>\n",
       "    <tr>\n",
       "      <th>ZJ000023</th>\n",
       "      <td>0.067435</td>\n",
       "      <td>0.010704</td>\n",
       "      <td>0.106893</td>\n",
       "      <td>0.247757</td>\n",
       "      <td>0.027425</td>\n",
       "      <td>0.504294</td>\n",
       "      <td>0.018688</td>\n",
       "      <td>0.016805</td>\n",
       "    </tr>\n",
       "    <tr>\n",
       "      <th>ZJ000024</th>\n",
       "      <td>0.021816</td>\n",
       "      <td>0.007942</td>\n",
       "      <td>0.032286</td>\n",
       "      <td>0.004802</td>\n",
       "      <td>0.004425</td>\n",
       "      <td>0.027640</td>\n",
       "      <td>0.891777</td>\n",
       "      <td>0.009311</td>\n",
       "    </tr>\n",
       "  </tbody>\n",
       "</table>\n",
       "</div>"
      ]
     },
     "execution_count": 14,
     "metadata": {},
     "output_type": "execute_result"
    }
   ],
   "execution_count": 14
  },
  {
   "metadata": {
    "ExecuteTime": {
     "end_time": "2025-09-05T12:45:35.469371Z",
     "start_time": "2025-09-05T12:45:35.449989Z"
    }
   },
   "cell_type": "code",
   "source": "eval_preds_df_ten_crop.head()",
   "outputs": [
    {
     "data": {
      "text/plain": [
       "          antelope_duiker      bird     blank  civet_genet       hog  \\\n",
       "ZJ000000         0.181020  0.366353  0.156684     0.020130  0.040482   \n",
       "ZJ000006         0.070564  0.012237  0.218456     0.505476  0.050110   \n",
       "ZJ000011         0.068095  0.049995  0.096729     0.014744  0.055861   \n",
       "ZJ000023         0.102141  0.009816  0.220778     0.111623  0.060889   \n",
       "ZJ000024         0.078558  0.027800  0.220199     0.008840  0.008501   \n",
       "\n",
       "           leopard  monkey_prosimian    rodent  \n",
       "ZJ000000  0.072703          0.113478  0.049149  \n",
       "ZJ000006  0.024535          0.020996  0.097626  \n",
       "ZJ000011  0.550942          0.043793  0.119841  \n",
       "ZJ000023  0.425088          0.028900  0.040767  \n",
       "ZJ000024  0.039840          0.603047  0.013214  "
      ],
      "text/html": [
       "<div>\n",
       "<style scoped>\n",
       "    .dataframe tbody tr th:only-of-type {\n",
       "        vertical-align: middle;\n",
       "    }\n",
       "\n",
       "    .dataframe tbody tr th {\n",
       "        vertical-align: top;\n",
       "    }\n",
       "\n",
       "    .dataframe thead th {\n",
       "        text-align: right;\n",
       "    }\n",
       "</style>\n",
       "<table border=\"1\" class=\"dataframe\">\n",
       "  <thead>\n",
       "    <tr style=\"text-align: right;\">\n",
       "      <th></th>\n",
       "      <th>antelope_duiker</th>\n",
       "      <th>bird</th>\n",
       "      <th>blank</th>\n",
       "      <th>civet_genet</th>\n",
       "      <th>hog</th>\n",
       "      <th>leopard</th>\n",
       "      <th>monkey_prosimian</th>\n",
       "      <th>rodent</th>\n",
       "    </tr>\n",
       "  </thead>\n",
       "  <tbody>\n",
       "    <tr>\n",
       "      <th>ZJ000000</th>\n",
       "      <td>0.181020</td>\n",
       "      <td>0.366353</td>\n",
       "      <td>0.156684</td>\n",
       "      <td>0.020130</td>\n",
       "      <td>0.040482</td>\n",
       "      <td>0.072703</td>\n",
       "      <td>0.113478</td>\n",
       "      <td>0.049149</td>\n",
       "    </tr>\n",
       "    <tr>\n",
       "      <th>ZJ000006</th>\n",
       "      <td>0.070564</td>\n",
       "      <td>0.012237</td>\n",
       "      <td>0.218456</td>\n",
       "      <td>0.505476</td>\n",
       "      <td>0.050110</td>\n",
       "      <td>0.024535</td>\n",
       "      <td>0.020996</td>\n",
       "      <td>0.097626</td>\n",
       "    </tr>\n",
       "    <tr>\n",
       "      <th>ZJ000011</th>\n",
       "      <td>0.068095</td>\n",
       "      <td>0.049995</td>\n",
       "      <td>0.096729</td>\n",
       "      <td>0.014744</td>\n",
       "      <td>0.055861</td>\n",
       "      <td>0.550942</td>\n",
       "      <td>0.043793</td>\n",
       "      <td>0.119841</td>\n",
       "    </tr>\n",
       "    <tr>\n",
       "      <th>ZJ000023</th>\n",
       "      <td>0.102141</td>\n",
       "      <td>0.009816</td>\n",
       "      <td>0.220778</td>\n",
       "      <td>0.111623</td>\n",
       "      <td>0.060889</td>\n",
       "      <td>0.425088</td>\n",
       "      <td>0.028900</td>\n",
       "      <td>0.040767</td>\n",
       "    </tr>\n",
       "    <tr>\n",
       "      <th>ZJ000024</th>\n",
       "      <td>0.078558</td>\n",
       "      <td>0.027800</td>\n",
       "      <td>0.220199</td>\n",
       "      <td>0.008840</td>\n",
       "      <td>0.008501</td>\n",
       "      <td>0.039840</td>\n",
       "      <td>0.603047</td>\n",
       "      <td>0.013214</td>\n",
       "    </tr>\n",
       "  </tbody>\n",
       "</table>\n",
       "</div>"
      ]
     },
     "execution_count": 15,
     "metadata": {},
     "output_type": "execute_result"
    }
   ],
   "execution_count": 15
  },
  {
   "metadata": {
    "ExecuteTime": {
     "end_time": "2025-09-05T12:45:42.398603Z",
     "start_time": "2025-09-05T12:45:42.378557Z"
    }
   },
   "cell_type": "code",
   "source": [
    "print(\"True labels (training):\")\n",
    "data.y_train.idxmax(axis=1).value_counts(normalize=True)"
   ],
   "outputs": [
    {
     "name": "stdout",
     "output_type": "stream",
     "text": [
      "True labels (training):\n"
     ]
    },
    {
     "data": {
      "text/plain": [
       "monkey_prosimian    0.172328\n",
       "blank               0.157544\n",
       "antelope_duiker     0.151554\n",
       "rodent              0.123730\n",
       "leopard             0.116452\n",
       "bird                0.112585\n",
       "civet_genet         0.108870\n",
       "hog                 0.056937\n",
       "Name: proportion, dtype: float64"
      ]
     },
     "execution_count": 16,
     "metadata": {},
     "output_type": "execute_result"
    }
   ],
   "execution_count": 16
  },
  {
   "metadata": {
    "ExecuteTime": {
     "end_time": "2025-09-05T12:45:45.262137Z",
     "start_time": "2025-09-05T12:45:45.245098Z"
    }
   },
   "cell_type": "code",
   "source": [
    "print(\"Predicted labels (eval):\")\n",
    "eval_preds_df.idxmax(axis=1).value_counts(normalize=True)"
   ],
   "outputs": [
    {
     "name": "stdout",
     "output_type": "stream",
     "text": [
      "Predicted labels (eval):\n"
     ]
    },
    {
     "data": {
      "text/plain": [
       "civet_genet         0.275015\n",
       "leopard             0.152517\n",
       "antelope_duiker     0.141601\n",
       "blank               0.128866\n",
       "monkey_prosimian    0.095209\n",
       "rodent              0.082777\n",
       "hog                 0.069133\n",
       "bird                0.054882\n",
       "Name: proportion, dtype: float64"
      ]
     },
     "execution_count": 17,
     "metadata": {},
     "output_type": "execute_result"
    }
   ],
   "execution_count": 17
  },
  {
   "metadata": {
    "ExecuteTime": {
     "end_time": "2025-09-05T12:45:47.727121Z",
     "start_time": "2025-09-05T12:45:47.709548Z"
    }
   },
   "cell_type": "code",
   "source": [
    "print(\"True labels (eval):\")\n",
    "data.y_eval.idxmax(axis=1).value_counts(normalize=True)"
   ],
   "outputs": [
    {
     "name": "stdout",
     "output_type": "stream",
     "text": [
      "True labels (eval):\n"
     ]
    },
    {
     "data": {
      "text/plain": [
       "civet_genet         0.299272\n",
       "leopard             0.217708\n",
       "antelope_duiker     0.144027\n",
       "rodent              0.115525\n",
       "hog                 0.068830\n",
       "monkey_prosimian    0.066404\n",
       "bird                0.047301\n",
       "blank               0.040934\n",
       "Name: proportion, dtype: float64"
      ]
     },
     "execution_count": 18,
     "metadata": {},
     "output_type": "execute_result"
    }
   ],
   "execution_count": 18
  },
  {
   "metadata": {
    "ExecuteTime": {
     "end_time": "2025-09-05T12:45:51.318315Z",
     "start_time": "2025-09-05T12:45:51.300990Z"
    }
   },
   "cell_type": "code",
   "source": [
    "eval_predictions = eval_preds_df.idxmax(axis=1)\n",
    "eval_predictions_ten_crop = eval_preds_df_ten_crop.idxmax(axis=1)\n",
    "eval_true = data.y_eval.idxmax(axis=1)"
   ],
   "outputs": [],
   "execution_count": 19
  },
  {
   "metadata": {
    "ExecuteTime": {
     "end_time": "2025-09-05T12:45:56.238893Z",
     "start_time": "2025-09-05T12:45:56.221246Z"
    }
   },
   "cell_type": "code",
   "source": "(eval_predictions_ten_crop != eval_predictions).sum()",
   "outputs": [
    {
     "data": {
      "text/plain": [
       "np.int64(778)"
      ]
     },
     "execution_count": 20,
     "metadata": {},
     "output_type": "execute_result"
    }
   ],
   "execution_count": 20
  },
  {
   "metadata": {
    "ExecuteTime": {
     "end_time": "2025-09-05T12:45:57.814078Z",
     "start_time": "2025-09-05T12:45:57.796332Z"
    }
   },
   "cell_type": "code",
   "source": [
    "print(f'Accuracy plain: { (eval_predictions == eval_true).mean() }')\n",
    "print(f'Accuracy ten crop: { (eval_predictions_ten_crop == eval_true).mean() }')"
   ],
   "outputs": [
    {
     "name": "stdout",
     "output_type": "stream",
     "text": [
      "Accuracy plain: 0.7362037598544573\n",
      "Accuracy ten crop: 0.6937537901758641\n"
     ]
    }
   ],
   "execution_count": 21
  },
  {
   "metadata": {},
   "cell_type": "markdown",
   "source": "### Predictions vs actual"
  },
  {
   "metadata": {},
   "cell_type": "code",
   "source": [
    "eval_preds = eval_preds_df.copy()\n",
    "\n",
    "eval_preds[ 'cls' ] = eval_preds_df.idxmax(axis=1)\n",
    "eval_preds[ 'cls_true' ] = data.y_eval.idxmax(axis=1)\n",
    "\n",
    "eval_preds[(eval_preds[ 'cls' ] == 'blank') & (eval_preds[ 'cls_true' ] == 'leopard')]"
   ],
   "outputs": [],
   "execution_count": null
  },
  {
   "metadata": {},
   "cell_type": "code",
   "source": "data.species_labels",
   "outputs": [],
   "execution_count": null
  },
  {
   "metadata": {},
   "cell_type": "code",
   "source": [
    "import math\n",
    "from itertools import zip_longest\n",
    "from PIL import Image\n",
    "%matplotlib inline\n",
    "# %matplotlib notebook\n",
    "# %matplotlib widget\n",
    "from torchvision.transforms.functional import to_pil_image\n",
    "\n",
    "random_state = 411111\n",
    "\n",
    "# rows = eval_preds[(eval_preds[ 'cls' ] == 'blank') & (eval_preds[ 'cls_true' ] == 'leopard')]\n",
    "rows = eval_preds[(eval_preds[ 'cls' ] == 'leopard') & (eval_preds[ 'cls_true' ] == 'leopard')]\n",
    "\n",
    "rows = rows.sample(frac=0.02, random_state=random_state)\n",
    "\n",
    "n_cols = 4\n",
    "n_rows = math.ceil(len(rows) / n_cols)\n",
    "\n",
    "fig, axes = plt.subplots(nrows=n_rows, ncols=n_cols, figsize=(18, 15))\n",
    "\n",
    "# fig.canvas.layout.width = '100%'   # ширину займёт вся ячейка\n",
    "# Высоту ipywidgets не умеют «auto», укажи соотношение/высоту:\n",
    "fig.set_figheight(fig.get_figwidth() * 0.6)\n",
    "\n",
    "invert = v2.RandomInvert(p=1)\n",
    "\n",
    "# iterate through each species\n",
    "print(f'Total rows: {len(rows)}')\n",
    "\n",
    "clahe = lib.LabCLAHE()\n",
    "\n",
    "for row, ax in zip_longest(list(rows.iterrows()), axes.flatten()):\n",
    "    if row is None:\n",
    "        if ax is not None:\n",
    "            ax.remove()\n",
    "        continue\n",
    "    if ax is None:\n",
    "        break\n",
    "    img = Image.open('data/train_features/' + row[0] + '.jpg')\n",
    "    ax.imshow(to_pil_image(clahe(clahe((img)))))\n",
    "    ax.set_title(f\"{row[1].name} \")\n",
    "\n",
    "fig.tight_layout()"
   ],
   "outputs": [],
   "execution_count": null
  },
  {
   "metadata": {},
   "cell_type": "markdown",
   "source": "### Confusion matrix"
  },
  {
   "metadata": {
    "ExecuteTime": {
     "end_time": "2025-09-05T12:46:44.324282Z",
     "start_time": "2025-09-05T12:46:44.180829Z"
    }
   },
   "cell_type": "code",
   "source": [
    "from sklearn.metrics import ConfusionMatrixDisplay\n",
    "\n",
    "fig, ax = plt.subplots(figsize=(10, 10))\n",
    "cm = ConfusionMatrixDisplay.from_predictions(\n",
    "    data.y_eval.idxmax(axis=1),\n",
    "    eval_preds_df.idxmax(axis=1),\n",
    "    ax=ax,\n",
    "    xticks_rotation=30,\n",
    "    colorbar=True,\n",
    ")"
   ],
   "outputs": [
    {
     "data": {
      "text/plain": [
       "<Figure size 1000x1000 with 2 Axes>"
      ],
      "image/png": "[encoded data removed]"
     },
     "metadata": {},
     "output_type": "display_data"
    }
   ],
   "execution_count": 22
  },
  {
   "metadata": {},
   "cell_type": "markdown",
   "source": "## Create submission"
  },
  {
   "metadata": {
    "ExecuteTime": {
     "end_time": "2025-09-05T13:48:03.436254Z",
     "start_time": "2025-09-05T13:48:03.419523Z"
    }
   },
   "cell_type": "code",
   "source": [
    "test_dataset = lib.ImageDatasetSigLip2(data.test_features, processor=model_preprocessor, learning=False)\n",
    "test_dataloader = DataLoader(test_dataset, batch_size=256, shuffle=False, num_workers=6)"
   ],
   "outputs": [],
   "execution_count": 54
  },
  {
   "metadata": {
    "ExecuteTime": {
     "end_time": "2025-09-05T13:49:48.971808Z",
     "start_time": "2025-09-05T13:48:07.121264Z"
    }
   },
   "cell_type": "code",
   "source": "submission_df, _ = predict_siglip(model, test_dataloader, T=0.79750, columns=data.species_labels)",
   "outputs": [
    {
     "name": "stderr",
     "output_type": "stream",
     "text": [
      "Predicting: 100%|██████████| 18/18 [01:41<00:00,  5.66s/it]\n"
     ]
    }
   ],
   "execution_count": 55
  },
  {
   "metadata": {
    "ExecuteTime": {
     "end_time": "2025-09-05T13:50:03.149291Z",
     "start_time": "2025-09-05T13:50:03.128335Z"
    }
   },
   "cell_type": "code",
   "source": [
    "submission_format = pd.read_csv(\"data/submission_format.csv\", index_col=\"id\")\n",
    "\n",
    "assert all(submission_df.index == submission_format.index)\n",
    "assert all(submission_df.columns == submission_format.columns)"
   ],
   "outputs": [],
   "execution_count": 56
  },
  {
   "metadata": {
    "ExecuteTime": {
     "end_time": "2025-09-05T13:50:05.913320Z",
     "start_time": "2025-09-05T13:50:05.884516Z"
    }
   },
   "cell_type": "code",
   "source": "submission_df.to_csv(\"submission.csv\")",
   "outputs": [],
   "execution_count": 57
  },
  {
   "metadata": {},
   "cell_type": "markdown",
   "source": "## Create refined data"
  },
  {
   "metadata": {
    "ExecuteTime": {
     "end_time": "2025-09-05T12:48:29.999105Z",
     "start_time": "2025-09-05T12:48:29.982493Z"
    }
   },
   "cell_type": "code",
   "source": [
    "refined_dataset = lib.ImageDatasetSigLip2(data.train_features, processor=model_preprocessor, learning=False)\n",
    "refined_dataloader = DataLoader(test_dataset, batch_size=32, shuffle=False, num_workers=6)"
   ],
   "outputs": [],
   "execution_count": 27
  },
  {
   "metadata": {
    "ExecuteTime": {
     "end_time": "2025-09-05T12:48:43.430031Z",
     "start_time": "2025-09-05T12:48:42.350081Z"
    }
   },
   "cell_type": "code",
   "source": "refined_preds_df, _ = predict_siglip(model, refined_dataloader, columns=data.species_labels)",
   "outputs": [
    {
     "name": "stderr",
     "output_type": "stream",
     "text": [
      "Predicting:   0%|          | 0/140 [00:01<?, ?it/s]\n"
     ]
    },
    {
     "ename": "KeyboardInterrupt",
     "evalue": "",
     "output_type": "error",
     "traceback": [
      "\u001B[31m---------------------------------------------------------------------------\u001B[39m",
      "\u001B[31mKeyboardInterrupt\u001B[39m                         Traceback (most recent call last)",
      "\u001B[36mCell\u001B[39m\u001B[36m \u001B[39m\u001B[32mIn[29]\u001B[39m\u001B[32m, line 1\u001B[39m\n\u001B[32m----> \u001B[39m\u001B[32m1\u001B[39m refined_preds_df, _ = \u001B[43mpredict_siglip\u001B[49m\u001B[43m(\u001B[49m\u001B[43mmodel\u001B[49m\u001B[43m,\u001B[49m\u001B[43m \u001B[49m\u001B[43mrefined_dataloader\u001B[49m\u001B[43m,\u001B[49m\u001B[43m \u001B[49m\u001B[43mcolumns\u001B[49m\u001B[43m=\u001B[49m\u001B[43mdata\u001B[49m\u001B[43m.\u001B[49m\u001B[43mspecies_labels\u001B[49m\u001B[43m)\u001B[49m\n",
      "\u001B[36mFile \u001B[39m\u001B[32m~/workspace/python/conservision_benchmark/lib.py:348\u001B[39m, in \u001B[36mpredict_siglip\u001B[39m\u001B[34m(model, data_loader, accumulate_probs, accumulate_loss, T, desc, criterion, columns)\u001B[39m\n\u001B[32m    344\u001B[39m             preds = F.softmax(logits / T, dim=\u001B[32m1\u001B[39m)\n\u001B[32m    345\u001B[39m             \u001B[38;5;66;03m# 3) store this batch's predictions in df\u001B[39;00m\n\u001B[32m    346\u001B[39m             \u001B[38;5;66;03m# note that PyTorch Tensors need to first be detached from their computational graph before converting to numpy arrays\u001B[39;00m\n\u001B[32m    347\u001B[39m             preds_df = pd.DataFrame(\n\u001B[32m--> \u001B[39m\u001B[32m348\u001B[39m                 \u001B[43mpreds\u001B[49m\u001B[43m.\u001B[49m\u001B[43mdetach\u001B[49m\u001B[43m(\u001B[49m\u001B[43m)\u001B[49m\u001B[43m.\u001B[49m\u001B[43mto\u001B[49m\u001B[43m(\u001B[49m\u001B[33;43m'\u001B[39;49m\u001B[33;43mcpu\u001B[39;49m\u001B[33;43m'\u001B[39;49m\u001B[43m)\u001B[49m.numpy(),\n\u001B[32m    349\u001B[39m                 index=batch[\u001B[33m\"\u001B[39m\u001B[33mimage_id\u001B[39m\u001B[33m\"\u001B[39m],\n\u001B[32m    350\u001B[39m                 columns=columns,\n\u001B[32m    351\u001B[39m             )\n\u001B[32m    352\u001B[39m             preds_collector.append(preds_df)\n\u001B[32m    354\u001B[39m \u001B[38;5;28;01mreturn\u001B[39;00m pd.concat(preds_collector) \u001B[38;5;28;01mif\u001B[39;00m accumulate_probs \u001B[38;5;28;01melse\u001B[39;00m \u001B[38;5;28;01mNone\u001B[39;00m, loss_acc / count \u001B[38;5;28;01mif\u001B[39;00m accumulate_loss \u001B[38;5;28;01melse\u001B[39;00m \u001B[38;5;28;01mNone\u001B[39;00m\n",
      "\u001B[31mKeyboardInterrupt\u001B[39m: "
     ]
    }
   ],
   "execution_count": 29
  },
  {
   "metadata": {},
   "cell_type": "code",
   "source": [
    "lables_format = pd.read_csv(\"data/train_labels.csv\", index_col=\"id\")\n",
    "\n",
    "assert all(lables_format.columns == refined_preds_df.columns)"
   ],
   "outputs": [],
   "execution_count": null
  },
  {
   "metadata": {},
   "cell_type": "code",
   "source": "refined_preds_df.to_csv(\"data/train_labels_refined.csv\")",
   "outputs": [],
   "execution_count": null
  }
 ],
 "metadata": {
  "anaconda-cloud": {},
  "kernelspec": {
   "display_name": "Python 3 (ipykernel)",
   "language": "python",
   "name": "python3"
  },
  "language_info": {
   "codemirror_mode": {
    "name": "ipython",
    "version": 3
   },
   "file_extension": ".py",
   "mimetype": "text/x-python",
   "name": "python",
   "nbconvert_exporter": "python",
   "pygments_lexer": "ipython3",
   "version": "3.8.12"
  }
 },
 "nbformat": 4,
 "nbformat_minor": 4
}
