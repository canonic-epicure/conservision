{
 "cells": [
  {
   "metadata": {
    "ExecuteTime": {
     "end_time": "2025-09-16T11:07:03.244829Z",
     "start_time": "2025-09-16T11:07:03.217714Z"
    }
   },
   "cell_type": "code",
   "source": [
    "%load_ext autoreload\n",
    "%autoreload 2"
   ],
   "outputs": [],
   "execution_count": 1
  },
  {
   "metadata": {
    "ExecuteTime": {
     "end_time": "2025-09-24T15:34:35.302182Z",
     "start_time": "2025-09-24T15:34:32.811322Z"
    }
   },
   "cell_type": "code",
   "source": [
    "from typing import Literal, Union\n",
    "\n",
    "import math\n",
    "from adamp import AdamP\n",
    "from torchvision.transforms.v2.functional import to_pil_image\n",
    "\n",
    "import os\n",
    "import glob\n",
    "\n",
    "import matplotlib.pyplot as plt\n",
    "import pandas as pd\n",
    "import torch\n",
    "import asyncio\n",
    "import tqdm\n",
    "from torch import nn\n",
    "from torch.utils.data import DataLoader\n",
    "from transformers import AutoImageProcessor, AutoModelForImageClassification\n",
    "\n",
    "import data\n",
    "import lib\n",
    "\n",
    "from lib import predict_siglip\n",
    "\n",
    "import ipywidgets as widgets\n",
    "from IPython.display import display\n",
    "from torchvision.transforms.functional import to_pil_image"
   ],
   "outputs": [],
   "execution_count": 2
  },
  {
   "metadata": {
    "ExecuteTime": {
     "end_time": "2025-09-24T15:38:45.370620Z",
     "start_time": "2025-09-24T15:37:24.181208Z"
    }
   },
   "cell_type": "code",
   "source": [
    "import PIL.Image as Image\n",
    "clahe = lib.LabCLAHE()\n",
    "\n",
    "files = glob.glob('data/train_features/*.jpg')\n",
    "\n",
    "for file in files:\n",
    "    img = Image.open(file)\n",
    "    img = to_pil_image(clahe(clahe(img)))\n",
    "\n",
    "    img.save(file)\n"
   ],
   "outputs": [],
   "execution_count": 14
  },
  {
   "metadata": {
    "ExecuteTime": {
     "end_time": "2025-09-24T19:09:11.513075Z",
     "start_time": "2025-09-24T19:08:51.136476Z"
    }
   },
   "cell_type": "code",
   "source": [
    "import PIL.Image as Image\n",
    "clahe = lib.LabCLAHE()\n",
    "\n",
    "files = glob.glob('data/test_features/*.jpg')\n",
    "\n",
    "for file in files:\n",
    "    img = Image.open(file)\n",
    "    img = to_pil_image(clahe(clahe(img)))\n",
    "\n",
    "    img.save(file)\n"
   ],
   "outputs": [],
   "execution_count": 15
  }
 ],
 "metadata": {
  "anaconda-cloud": {},
  "kernelspec": {
   "display_name": "Python 3 (ipykernel)",
   "language": "python",
   "name": "python3"
  },
  "language_info": {
   "codemirror_mode": {
    "name": "ipython",
    "version": 3
   },
   "file_extension": ".py",
   "mimetype": "text/x-python",
   "name": "python",
   "nbconvert_exporter": "python",
   "pygments_lexer": "ipython3",
   "version": "3.8.12"
  }
 },
 "nbformat": 4,
 "nbformat_minor": 4
}