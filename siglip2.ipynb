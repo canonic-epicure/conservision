{
 "cells": [
  {
   "metadata": {},
   "cell_type": "markdown",
   "source": "## Imports"
  },
  {
   "metadata": {},
   "cell_type": "code",
   "source": [
    "from sympy.polys.subresultants_qq_zz import res_q\n",
    "%load_ext autoreload\n",
    "%autoreload 2"
   ],
   "outputs": [],
   "execution_count": null
  },
  {
   "metadata": {},
   "cell_type": "code",
   "source": [
    "import matplotlib.pyplot as plt\n",
    "import torch\n",
    "import tqdm\n",
    "import pandas as pd\n",
    "from torch import nn\n",
    "from torch.utils.data import DataLoader\n",
    "from transformers import AutoImageProcessor, AutoModelForImageClassification\n",
    "\n",
    "import data\n",
    "import lib"
   ],
   "outputs": [],
   "execution_count": null
  },
  {
   "metadata": {},
   "cell_type": "markdown",
   "source": "## Model instantiation"
  },
  {
   "metadata": {},
   "cell_type": "code",
   "source": [
    "model_id = \"google/siglip2-large-patch16-384\"  # FixRes вариант\n",
    "processor = AutoImageProcessor.from_pretrained(model_id)  # даст resize/normalize, mean/std/size\n",
    "# Веса энкодера + НОВАЯ голова классификации (num_labels=2):\n",
    "model = AutoModelForImageClassification.from_pretrained(\n",
    "    model_id,\n",
    "    num_labels=len(data.species_labels),\n",
    "    ignore_mismatched_sizes=True,  # создаст новую голову нужного размера\n",
    ")\n",
    "\n",
    "device = \"cuda\" if torch.cuda.is_available() else \"cpu\"\n",
    "model.to(device)\n",
    "\n",
    "model.tracking_loss = []\n",
    "model.tracking_loss_val = []\n",
    "model.epoch = 0\n",
    "\n",
    "tracking_loss = model.tracking_loss\n",
    "tracking_loss_val = model.tracking_loss_val"
   ],
   "outputs": [],
   "execution_count": null
  },
  {
   "metadata": {},
   "cell_type": "markdown",
   "source": "## Training"
  },
  {
   "metadata": {},
   "cell_type": "code",
   "source": [
    "# 2) Заморозим всё, кроме головы (линейный пробинг)\n",
    "for name, p in model.named_parameters():\n",
    "    p.requires_grad = (\"classifier\" in name)  # у HF-классификаторов голова обычно называется \"classifier\"\n",
    "\n",
    "# Пример: соберите свои train/val списки файлов и меток\n",
    "train_ds = lib.ForestDataset(data.x_train, data.y_train, processor=processor)\n",
    "val_ds   = lib.ForestDataset(data.x_eval,   data.y_eval, processor=processor)\n",
    "train_loader = DataLoader(train_ds, batch_size=256, shuffle=True, num_workers=4)\n",
    "val_loader   = DataLoader(val_ds,   batch_size=256, shuffle=False, num_workers=4)\n",
    "\n",
    "# 4) Баланс классов (простой вариант: веса в CrossEntropy по частотам)\n",
    "# import numpy as np\n",
    "# counts = np.bincount(train_labels, minlength=2)  # counts[0], counts[1]\n",
    "# class_weights = torch.tensor((counts.sum() / (2.0 * np.maximum(counts, 1))), dtype=torch.float32, device=device)\n",
    "# criterion = nn.CrossEntropyLoss(weight=class_weights)\n",
    "\n",
    "criterion = nn.CrossEntropyLoss(label_smoothing=0.1)\n",
    "\n",
    "# 5) Оптимизируем ТОЛЬКО голову\n",
    "head_params = [p for p in model.parameters() if p.requires_grad]\n",
    "optimizer = torch.optim.AdamW(head_params, lr=1e-3, weight_decay=0.01)\n",
    "\n",
    "# 6) Тренировочный цикл (минимальный)\n",
    "\n",
    "num_epochs = 1\n",
    "\n",
    "for epoch in range(model.epoch, model.epoch + num_epochs):\n",
    "    print(f\"Starting epoch {epoch}\")\n",
    "    print(f\"Training: \")\n",
    "\n",
    "    model.train()\n",
    "\n",
    "    loss_acc = 0\n",
    "    count = 0\n",
    "\n",
    "    for batch in tqdm.tqdm(train_loader, total=len(train_loader), ):\n",
    "        optimizer.zero_grad(set_to_none=True)\n",
    "\n",
    "        out = model(batch['pixel_values'].to('cuda'))              # logits: (B, 2)\n",
    "        loss = criterion(out.logits, batch[\"labels\"].to('cuda'))\n",
    "\n",
    "        c = batch['pixel_values'].size(0)\n",
    "        loss_acc += loss.item() * c\n",
    "        count += c\n",
    "\n",
    "        loss.backward()\n",
    "        optimizer.step()\n",
    "\n",
    "    tracking_loss.append(loss_acc / count)\n",
    "\n",
    "    # валидация\n",
    "    model.eval()\n",
    "\n",
    "    loss_acc = 0\n",
    "    count = 0\n",
    "\n",
    "    with torch.no_grad():\n",
    "        for batch in tqdm.tqdm(val_loader, total=len(val_loader)):\n",
    "            out = model(batch['pixel_values'].to('cuda'))\n",
    "            loss = criterion(out.logits, batch[\"labels\"].to('cuda'))\n",
    "\n",
    "            c = batch['pixel_values'].size(0)\n",
    "            loss_acc += loss.item() * c\n",
    "            count += c\n",
    "\n",
    "    tracking_loss_val.append(loss_acc / count)\n",
    "\n",
    "    lib.save_model(model, f\"./models_siglip2/model_{str(epoch).rjust(2, \"0\")}.pth\")\n",
    "\n",
    "    model.epoch += 1"
   ],
   "outputs": [],
   "execution_count": null
  },
  {
   "metadata": {},
   "cell_type": "markdown",
   "source": "## Training progress"
  },
  {
   "metadata": {},
   "cell_type": "code",
   "source": "tracking_loss, tracking_loss_val",
   "outputs": [],
   "execution_count": null
  },
  {
   "metadata": {},
   "cell_type": "code",
   "source": [
    "fig, ax = plt.subplots(figsize=(15, 5))\n",
    "epochs_train = list(range(len(tracking_loss)))\n",
    "epochs_val = list(range(len(tracking_loss_val)))\n",
    "ax.plot(epochs_train, tracking_loss, label=\"train loss\")\n",
    "ax.plot(epochs_val, tracking_loss_val, label=\"validation loss\", alpha=0.8)\n",
    "ax.set_xlabel(\"Epoch (index)\")\n",
    "ax.set_ylabel(\"Loss\")\n",
    "ax.legend(loc=\"best\")\n",
    "ax.set_xticks(epochs_train)\n",
    "ax.grid(True)\n",
    "fig.tight_layout()\n"
   ],
   "outputs": [],
   "execution_count": null
  },
  {
   "metadata": {},
   "cell_type": "markdown",
   "source": "## Validation"
  },
  {
   "metadata": {},
   "cell_type": "code",
   "source": [
    "def predict(model, data_loader: DataLoader, T = 1):\n",
    "    preds_collector = []\n",
    "\n",
    "    # put the model in eval mode so we don't update any parameters\n",
    "    model.eval()\n",
    "\n",
    "    model.to(torch.device(\"cuda\"))\n",
    "\n",
    "    # we aren't updating our weights so no need to calculate gradients\n",
    "    with torch.no_grad():\n",
    "        for batch in tqdm.tqdm(data_loader, total=len(data_loader)):\n",
    "            # 1) run the forward step\n",
    "            logits = model.forward(batch[\"pixel_values\"].to(torch.device(\"cuda\"))).logits\n",
    "            # 2) apply softmax so that model outputs are in range [0,1]\n",
    "            preds = nn.functional.softmax(logits / T, dim=1)\n",
    "            # 3) store this batch's predictions in df\n",
    "            # note that PyTorch Tensors need to first be detached from their computational graph before converting to numpy arrays\n",
    "            preds_df = pd.DataFrame(\n",
    "                preds.detach().to('cpu').numpy(),\n",
    "                index=batch[\"image_id\"],\n",
    "                columns=data.species_labels,\n",
    "            )\n",
    "            preds_collector.append(preds_df)\n",
    "\n",
    "    return pd.concat(preds_collector)\n",
    "\n",
    "eval_preds_df = predict(model, val_loader)"
   ],
   "outputs": [],
   "execution_count": null
  },
  {
   "metadata": {},
   "cell_type": "code",
   "source": [
    "print(\"True labels (training):\")\n",
    "data.y_train.idxmax(axis=1).value_counts(normalize=True)"
   ],
   "outputs": [],
   "execution_count": null
  },
  {
   "metadata": {},
   "cell_type": "code",
   "source": [
    "print(\"Predicted labels (eval):\")\n",
    "eval_preds_df.idxmax(axis=1).value_counts(normalize=True)"
   ],
   "outputs": [],
   "execution_count": null
  },
  {
   "metadata": {},
   "cell_type": "code",
   "source": [
    "print(\"True labels (eval):\")\n",
    "data.y_eval.idxmax(axis=1).value_counts(normalize=True)"
   ],
   "outputs": [],
   "execution_count": null
  },
  {
   "metadata": {},
   "cell_type": "code",
   "source": [
    "eval_predictions = eval_preds_df.idxmax(axis=1)\n",
    "eval_true = data.y_eval.idxmax(axis=1)"
   ],
   "outputs": [],
   "execution_count": null
  },
  {
   "metadata": {},
   "cell_type": "code",
   "source": [
    "correct = (eval_predictions == eval_true).sum()\n",
    "accuracy = correct / len(eval_predictions)\n",
    "accuracy.item()"
   ],
   "outputs": [],
   "execution_count": null
  },
  {
   "metadata": {},
   "cell_type": "markdown",
   "source": "### Confusion matrix"
  },
  {
   "metadata": {},
   "cell_type": "code",
   "source": [
    "from sklearn.metrics import ConfusionMatrixDisplay\n",
    "\n",
    "fig, ax = plt.subplots(figsize=(10, 10))\n",
    "cm = ConfusionMatrixDisplay.from_predictions(\n",
    "    data.y_eval.idxmax(axis=1),\n",
    "    eval_preds_df.idxmax(axis=1),\n",
    "    ax=ax,\n",
    "    xticks_rotation=30,\n",
    "    colorbar=True,\n",
    ")"
   ],
   "outputs": [],
   "execution_count": null
  },
  {
   "metadata": {},
   "cell_type": "markdown",
   "source": "## Create submission"
  },
  {
   "metadata": {},
   "cell_type": "code",
   "source": [
    "test_dataset = lib.ForestDataset(data.test_features, learning=False)\n",
    "test_dataloader = DataLoader(test_dataset, batch_size=32, shuffle=False, num_workers=4)"
   ],
   "outputs": [],
   "execution_count": null
  },
  {
   "metadata": {},
   "cell_type": "code",
   "source": "submission_df = predict(model, test_dataloader)",
   "outputs": [],
   "execution_count": null
  },
  {
   "metadata": {},
   "cell_type": "code",
   "source": [
    "submission_format = pd.read_csv(\"data/submission_format.csv\", index_col=\"id\")\n",
    "\n",
    "assert all(submission_df.index == submission_format.index)\n",
    "assert all(submission_df.columns == submission_format.columns)"
   ],
   "outputs": [],
   "execution_count": null
  },
  {
   "metadata": {},
   "cell_type": "code",
   "source": "submission_df.to_csv(\"submission.csv\")",
   "outputs": [],
   "execution_count": null
  }
 ],
 "metadata": {
  "anaconda-cloud": {},
  "kernelspec": {
   "display_name": "Python 3 (ipykernel)",
   "language": "python",
   "name": "python3"
  },
  "language_info": {
   "codemirror_mode": {
    "name": "ipython",
    "version": 3
   },
   "file_extension": ".py",
   "mimetype": "text/x-python",
   "name": "python",
   "nbconvert_exporter": "python",
   "pygments_lexer": "ipython3",
   "version": "3.8.12"
  }
 },
 "nbformat": 4,
 "nbformat_minor": 4
}
